{
 "cells": [
  {
   "cell_type": "code",
   "execution_count": 1,
   "id": "5566b4e8-86c8-48aa-997a-8648ccb1a01c",
   "metadata": {},
   "outputs": [],
   "source": [
    "# this is going to act as our document for the RAG model to learn from. \n",
    "corpus_of_documents = [\n",
    "    \"Take a leisurely walk in the park and enjoy the fresh air.\",\n",
    "    \"Visit a local museum and discover something new.\",\n",
    "    \"Attend a live music concert and feel the rythm.\",\n",
    "    \"Go for a hike and admire the natural scenery.\",\n",
    "    \"Have a picnic with friends and share some laughs.\",\n",
    "    \"Explore new cuisine by dining at an athnic restuarant.\",\n",
    "    \"Take a yoga class.\"\n",
    "]"
   ]
  },
  {
   "cell_type": "code",
   "execution_count": 3,
   "id": "a3fd43d4-8d69-4f1c-b195-9a4bb67222c1",
   "metadata": {},
   "outputs": [],
   "source": [
    "# this is the user query\n",
    "user_query = \"I am an Indian and I live in India \""
   ]
  },
  {
   "cell_type": "code",
   "execution_count": 4,
   "id": "4448c9d8-a837-4688-ae03-05e235dcf54d",
   "metadata": {},
   "outputs": [],
   "source": [
    "# here we perform a similarity search between the below document and query\n",
    "document=\"India is my country for the Indians and for everyone test\""
   ]
  },
  {
   "cell_type": "code",
   "execution_count": 5,
   "id": "9c0df8b1-daff-4f7a-88aa-6e7f356722f8",
   "metadata": {},
   "outputs": [],
   "source": [
    "from collections import Counter\n",
    "import math"
   ]
  },
  {
   "cell_type": "code",
   "execution_count": 6,
   "id": "235cea17-abb2-49c0-bfa6-daa3792f4cb7",
   "metadata": {},
   "outputs": [],
   "source": [
    "query_tokens=user_query.lower().split(\" \")"
   ]
  },
  {
   "cell_type": "code",
   "execution_count": 7,
   "id": "525fe386-fbcd-404f-997a-03098fe2f1d9",
   "metadata": {},
   "outputs": [],
   "source": [
    "document_tokens=document.lower().split(\" \")"
   ]
  },
  {
   "cell_type": "code",
   "execution_count": 8,
   "id": "7b9dbd4e-685d-4d1a-a287-a21034309812",
   "metadata": {},
   "outputs": [],
   "source": [
    "# query_tokens\n",
    "# document_tokens\n",
    "# above are the tokens created from the user query and example document"
   ]
  },
  {
   "cell_type": "code",
   "execution_count": 9,
   "id": "d734477c-bcb9-4e40-ae78-c6d19d978781",
   "metadata": {},
   "outputs": [],
   "source": [
    "# here we calculate the frequency of every token in the query and doc to use them as embeddings for the tokens\n",
    "query_counter = Counter(query_tokens)\n",
    "document_counter = Counter(document_tokens)"
   ]
  },
  {
   "cell_type": "code",
   "execution_count": 10,
   "id": "202f0be0-98ac-423d-a93f-07ce0d06a9aa",
   "metadata": {},
   "outputs": [
    {
     "name": "stdout",
     "output_type": "stream",
     "text": [
      "2 i\n",
      "1 am\n",
      "1 an\n",
      "1 indian\n",
      "1 and\n",
      "1 live\n",
      "1 in\n",
      "1 india\n",
      "1 \n"
     ]
    },
    {
     "data": {
      "text/plain": [
       "[2, 1, 1, 1, 1, 1, 1, 1, 1]"
      ]
     },
     "execution_count": 10,
     "metadata": {},
     "output_type": "execute_result"
    }
   ],
   "source": [
    "# this is a sentence vector\n",
    "lst = []  #this list holds the frequency values of all tokens of user query\n",
    "for token in query_counter.keys():\n",
    "    print(query_counter[token], token)\n",
    "    lst.append(query_counter[token])\n",
    "lst"
   ]
  },
  {
   "cell_type": "code",
   "execution_count": 11,
   "id": "dc64b34a-dde1-4fd5-b701-b3306585db8c",
   "metadata": {},
   "outputs": [],
   "source": [
    "doc = []\n",
    "for token in document_counter.keys():\n",
    "    doc.append(document_counter[token])"
   ]
  },
  {
   "cell_type": "code",
   "execution_count": 12,
   "id": "40e33c22-04fc-4e85-9c0b-f5ea007fabdc",
   "metadata": {},
   "outputs": [
    {
     "name": "stdout",
     "output_type": "stream",
     "text": [
      "india\n",
      "and\n"
     ]
    }
   ],
   "source": [
    "# this will give us the commons words in both the sentences\n",
    "mylist=[]\n",
    "for tokens in query_counter.keys() & document_counter.keys():\n",
    "    print(tokens)\n",
    "    mylist.append(query_counter[tokens]*document_counter[tokens])"
   ]
  },
  {
   "cell_type": "code",
   "execution_count": 13,
   "id": "6e4d9a64-ed18-4f88-9e52-7f35259dca46",
   "metadata": {},
   "outputs": [],
   "source": [
    "# this is the dot product of those two common words\n",
    "dot_prod=sum(mylist)"
   ]
  },
  {
   "cell_type": "code",
   "execution_count": 25,
   "id": "b8eb8d53-eac2-4e14-a70c-031ce873aaad",
   "metadata": {},
   "outputs": [],
   "source": [
    "query_magnitude = math.sqrt(sum(query_counter[token] ** 2 for token in query_counter))"
   ]
  },
  {
   "cell_type": "code",
   "execution_count": 27,
   "id": "88aebc8a-242d-4564-95f1-f4491060445c",
   "metadata": {},
   "outputs": [
    {
     "data": {
      "text/plain": [
       "3.4641016151377544"
      ]
     },
     "execution_count": 27,
     "metadata": {},
     "output_type": "execute_result"
    }
   ],
   "source": [
    "query_magnitude"
   ]
  },
  {
   "cell_type": "code",
   "execution_count": 29,
   "id": "fe633d45-bea6-4045-bc78-4cb988f8fdff",
   "metadata": {},
   "outputs": [
    {
     "data": {
      "text/plain": [
       "3.605551275463989"
      ]
     },
     "execution_count": 29,
     "metadata": {},
     "output_type": "execute_result"
    }
   ],
   "source": [
    "document_magnitude = math.sqrt(sum(document_counter[token] ** 2 for token in document_counter))\n",
    "document_magnitude"
   ]
  },
  {
   "cell_type": "code",
   "execution_count": 31,
   "id": "969e9bd1-26b7-4936-86f8-8a5d73b042fd",
   "metadata": {},
   "outputs": [
    {
     "data": {
      "text/plain": [
       "0.16012815380508716"
      ]
     },
     "execution_count": 31,
     "metadata": {},
     "output_type": "execute_result"
    }
   ],
   "source": [
    "similarity = (dot_prod)/(query_magnitude*document_magnitude)\n",
    "similarity"
   ]
  },
  {
   "cell_type": "code",
   "execution_count": 33,
   "id": "8e7c5913-9806-4d34-9b87-be6867231698",
   "metadata": {},
   "outputs": [],
   "source": [
    "#user_query=\"is yoga good for health\"\n",
    "#document=\"yoga is very good for living healthy lifestyle\""
   ]
  },
  {
   "cell_type": "code",
   "execution_count": 35,
   "id": "c51609c1-770b-4b30-a2f9-e4a6abd0cd28",
   "metadata": {},
   "outputs": [],
   "source": [
    "def cosine_similarity(query, document):\n",
    "    query_tokens=query.lower().split(\" \")\n",
    "    document_tokens=document.lower().split(\" \")\n",
    "\n",
    "    query_counter = Counter(query_tokens)\n",
    "    document_counter = Counter(document_tokens)\n",
    "\n",
    "    mylist=[]\n",
    "    for tokens in query_counter.keys() & document_counter.keys():\n",
    "          print(tokens)\n",
    "          mylist.append(query_counter[tokens]*document_counter[tokens])\n",
    "    dot_prod=sum(mylist)\n",
    "    query_magnitude = math.sqrt(sum(query_counter[token] ** 2 for token in query_counter))\n",
    "    document_magnitude = math.sqrt(sum(document_counter[token] ** 2 for token in document_counter))\n",
    "    similarity = (dot_prod)/(query_magnitude*document_magnitude)\n",
    "\n",
    "    return similarity"
   ]
  },
  {
   "cell_type": "code",
   "execution_count": 37,
   "id": "c5e512e3-a747-4814-83e4-e9ec4efd6956",
   "metadata": {},
   "outputs": [],
   "source": [
    "#cosine_similarity(user_query, document)"
   ]
  },
  {
   "cell_type": "code",
   "execution_count": 39,
   "id": "f34ab0b6-7a5d-4c66-aa75-8d683d1621af",
   "metadata": {},
   "outputs": [],
   "source": [
    "def return_response(query, corpus):\n",
    "    similarities = []\n",
    "    for doc in corpus:\n",
    "        similarity = cosine_similarity(query, doc)\n",
    "        similarities.append(similarity)\n",
    "    return corpus_of_documents[similarities.index(max(similarities))]"
   ]
  },
  {
   "cell_type": "code",
   "execution_count": 41,
   "id": "97a82104-abc5-49e1-9a47-b78574847ab3",
   "metadata": {},
   "outputs": [
    {
     "data": {
      "text/plain": [
       "['Take a leisurely walk in the park and enjoy the fresh air.',\n",
       " 'Visit a local museum and discover something new.',\n",
       " 'Attend a live music concert and feel the rythm.',\n",
       " 'Go for a hike and admire the natural scenery.',\n",
       " 'Have a picnic with friends and share some laughs.',\n",
       " 'Explore new cuisine by dining at an athnic restuarant.',\n",
       " 'Take a yoga class.']"
      ]
     },
     "execution_count": 41,
     "metadata": {},
     "output_type": "execute_result"
    }
   ],
   "source": [
    "corpus_of_documents"
   ]
  },
  {
   "cell_type": "code",
   "execution_count": 43,
   "id": "ec38bd06-93cc-48b9-9b3b-bbac5a7a8157",
   "metadata": {},
   "outputs": [],
   "source": [
    "new_query=\"i like fresh air.\""
   ]
  },
  {
   "cell_type": "code",
   "execution_count": 45,
   "id": "3d437826-647a-4393-8e97-d10a636ebe23",
   "metadata": {},
   "outputs": [
    {
     "name": "stdout",
     "output_type": "stream",
     "text": [
      "air.\n",
      "fresh\n"
     ]
    },
    {
     "data": {
      "text/plain": [
       "'Take a leisurely walk in the park and enjoy the fresh air.'"
      ]
     },
     "execution_count": 45,
     "metadata": {},
     "output_type": "execute_result"
    }
   ],
   "source": [
    "return_response(new_query, corpus_of_documents)"
   ]
  },
  {
   "cell_type": "code",
   "execution_count": 47,
   "id": "1aba68b2-efc8-47ea-854b-b38aa46ea965",
   "metadata": {},
   "outputs": [
    {
     "name": "stdout",
     "output_type": "stream",
     "text": [
      "museum\n"
     ]
    },
    {
     "data": {
      "text/plain": [
       "'Visit a local museum and discover something new.'"
      ]
     },
     "execution_count": 47,
     "metadata": {},
     "output_type": "execute_result"
    }
   ],
   "source": [
    "another_query=\"I like museum\"\n",
    "return_response(another_query, corpus_of_documents)"
   ]
  },
  {
   "cell_type": "raw",
   "id": "d3f2b63a-8000-4529-8168-f620d4b3b9eb",
   "metadata": {},
   "source": []
  },
  {
   "cell_type": "code",
   "execution_count": 49,
   "id": "aee52393-ad25-44c4-bfec-87d0d01d69c9",
   "metadata": {},
   "outputs": [],
   "source": [
    "#how to configure LLM in the local system\n",
    "#using LLAMA2\n",
    "#we won't be using hugging face "
   ]
  },
  {
   "cell_type": "code",
   "execution_count": 51,
   "id": "7c0ead22-5e94-4814-9b4f-df1e89e80bf8",
   "metadata": {},
   "outputs": [
    {
     "name": "stdout",
     "output_type": "stream",
     "text": [
      "air.\n",
      "fresh\n"
     ]
    }
   ],
   "source": [
    "relevant_document = return_response(new_query, corpus_of_documents)\n",
    "user_input=new_query"
   ]
  },
  {
   "cell_type": "code",
   "execution_count": 56,
   "id": "328d6b2e-2085-456c-af7e-b65f4d285052",
   "metadata": {},
   "outputs": [
    {
     "name": "stdout",
     "output_type": "stream",
     "text": [
      " Great! Based on your interest in fresh air, I recommend taking a leisurely walk in the park to enjoy the natural surroundings.\n"
     ]
    }
   ],
   "source": [
    "#augment this response above using the llama2 model (connect the llama2 model and integrate it with our own model)\n",
    "\n",
    "import requests\n",
    "import json\n",
    "full_response = []\n",
    "prompt = \"\"\"\n",
    "You are a bot that makes recommendations for activities. You answer in very short sentences and do not include extra information.\n",
    "This is the recommended activity: {relevant_document}\n",
    "The user input is: {user_input}\n",
    "Compile a recommendation to the user based on the recommended activity and the user input.\n",
    "\"\"\"\n",
    "\n",
    "url = 'http://localhost:11434/api/generate'\n",
    "\n",
    "data={\n",
    "    \"model\":\"llama2\",\n",
    "    \"prompt\":prompt.format(user_input=user_input, relevant_document=relevant_document)\n",
    "}\n",
    "\n",
    "headers={'Content-Type':'application/json'}\n",
    "\n",
    "response=requests.post(url, data=json.dumps(data), headers=headers, stream=True)\n",
    "try:\n",
    "    for line in response.iter_lines():\n",
    "        if line:\n",
    "            decode_line = json.loads(line.decode('utf-8'))\n",
    "            full_response.append(decode_line['response'])\n",
    "finally:\n",
    "    response.close()\n",
    "print(''.join(full_response))\n"
   ]
  },
  {
   "cell_type": "code",
   "execution_count": null,
   "id": "292de564-0aa5-4b42-bc61-e34430707b48",
   "metadata": {},
   "outputs": [],
   "source": []
  },
  {
   "cell_type": "code",
   "execution_count": null,
   "id": "01e422d4-6bbf-4f87-ad6c-f874df40c363",
   "metadata": {},
   "outputs": [],
   "source": []
  },
  {
   "cell_type": "code",
   "execution_count": null,
   "id": "87ce5e20-6593-4377-86b9-77df2b50f804",
   "metadata": {},
   "outputs": [],
   "source": []
  },
  {
   "cell_type": "code",
   "execution_count": null,
   "id": "faa5adb5-1ff0-4098-b8f9-28789ed257c2",
   "metadata": {},
   "outputs": [],
   "source": []
  }
 ],
 "metadata": {
  "kernelspec": {
   "display_name": "Python [conda env:base] *",
   "language": "python",
   "name": "conda-base-py"
  },
  "language_info": {
   "codemirror_mode": {
    "name": "ipython",
    "version": 3
   },
   "file_extension": ".py",
   "mimetype": "text/x-python",
   "name": "python",
   "nbconvert_exporter": "python",
   "pygments_lexer": "ipython3",
   "version": "3.12.7"
  }
 },
 "nbformat": 4,
 "nbformat_minor": 5
}
